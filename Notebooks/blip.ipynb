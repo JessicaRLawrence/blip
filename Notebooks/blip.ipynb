{
 "cells": [
  {
   "cell_type": "code",
   "execution_count": 12,
   "metadata": {},
   "outputs": [
    {
     "name": "stdout",
     "output_type": "stream",
     "text": [
      "The autoreload extension is already loaded. To reload it, use:\n",
      "  %reload_ext autoreload\n"
     ]
    }
   ],
   "source": [
    "from __future__ import division\n",
    "import numpy as np\n",
    "import matplotlib\n",
    "matplotlib.rcParams['figure.figsize'] = (14,10)\n",
    "import matplotlib.pyplot as plt\n",
    "from scipy.signal import welch\n",
    "\n",
    "%load_ext autoreload\n",
    "%autoreload 2\n",
    "\n",
    "import sys\n",
    "sys.path.append('../')\n",
    "from src.freqDomain import freqDomain"
   ]
  },
  {
   "cell_type": "code",
   "execution_count": null,
   "metadata": {
    "collapsed": true
   },
   "outputs": [],
   "source": [
    "end_idx=int(126800)\n",
    "hoft = np.loadtxt('../SGWB_withnoise_full.txt')\n",
    "#hoft = np.loadtxt('../noisless_mldc.txt')\n",
    "times, hX, hY, hZ = hoft[0:end_idx, 0], hoft[0:end_idx, 1], hoft[0:end_idx, 2], hoft[0:end_idx, 3]"
   ]
  },
  {
   "cell_type": "code",
   "execution_count": null,
   "metadata": {
    "collapsed": true
   },
   "outputs": [],
   "source": [
    "## PSD of the data\n",
    "fs = 1.0/(times[1] - times[0])\n",
    "fx, Sx = welch(hX,fs=fs, nperseg=int(1e4*fs) )\n",
    "fx, Sx = fx[1:], Sx[1:]"
   ]
  },
  {
   "cell_type": "code",
   "execution_count": null,
   "metadata": {
    "collapsed": true
   },
   "outputs": [],
   "source": [
    "## antenna pattern\n",
    "Larm=2.5e9\n",
    "cspeed=3e8\n",
    "fstar = cspeed/(2*np.pi*Larm)\n",
    "\n",
    "\n",
    "fd = freqDomain()\n",
    "Fx, Fy, Fz = fd.tdi_isgwb_xyz_response(0.5*fx/fstar)"
   ]
  },
  {
   "cell_type": "code",
   "execution_count": null,
   "metadata": {
    "collapsed": true
   },
   "outputs": [],
   "source": [
    "## theoretical PSD\n",
    "Na = (3.0e-15)**2 * (1 + (4e-4/fx)**2) *  (1  + (fx/8e-3)**4) *(1.0/(2*np.pi*fx))**4 * (2*np.pi*fx/cspeed)**2\n",
    "Np = (15e-12)**2 * (1 + (2e-3/fx)**4) *(2*np.pi*fx/cspeed)**2\n",
    "\n",
    "#Sx_instr = 2*16 * (np.sin(fx/fstar))**2 * (Np + 2 * Na * (np.sin(2*fx/fstar))**2 )\n",
    "\n",
    "Sx_instr = 16.0 * np.sin(fx/fstar)**2 * (2.0 * (1.0 + np.cos(fx/fstar)**2) * Na + Np)\n",
    "\n",
    "omega_f = 3.5e-9 * (fx/25)**0.667\n",
    "H0 = 2.2*10**(-18)\n",
    "\n",
    "Sx_gw = omega_f * (3*H0**2)/(4 * np.pi**2 * fx**3) * Fx * (4*np.pi*fx*Larm/cspeed)**2"
   ]
  },
  {
   "cell_type": "code",
   "execution_count": null,
   "metadata": {},
   "outputs": [],
   "source": [
    "plt.loglog(fx, Sx, label='mldc')\n",
    "plt.loglog(fx, Sx_instr + Sx_gw, label='expected total')\n",
    "plt.loglog(fx, Sx_instr,'--' ,  label='expected instr N')\n",
    "plt.loglog(fx, Sx_gw,'--' , label='isgwb power')\n",
    "plt.title('Power in the X channel')\n",
    "plt.ylim(1e-43, 1e-38)\n",
    "plt.legend()"
   ]
  },
  {
   "cell_type": "code",
   "execution_count": null,
   "metadata": {
    "collapsed": true
   },
   "outputs": [],
   "source": [
    "hA = (1.0/3.0)*(2*hX - hY - hZ)\n",
    "fs = 1.0/(times[1] - times[0])\n",
    "fA, SA = welch(hA,fs=fs, nperseg=int(1e4*fs) )\n",
    "fA, SA = fA[1:], SA[1:]"
   ]
  },
  {
   "cell_type": "code",
   "execution_count": null,
   "metadata": {
    "collapsed": true
   },
   "outputs": [],
   "source": [
    "FA, FE, FT = fd.tdi_isgwb_response(0.5*fA/fstar)"
   ]
  },
  {
   "cell_type": "code",
   "execution_count": null,
   "metadata": {
    "collapsed": true
   },
   "outputs": [],
   "source": [
    "SA_instr = (16.0/3.0) * ((np.sin(fA/fstar))**2) * Np*(np.cos(fA/fstar) + 2) \\\n",
    "            + (16.0/3.0) * ((np.sin(fA/fstar))**2) * Na*(4*np.cos(fA/fstar) + 2*np.cos(2*fA/fstar) + 6)\n",
    "\n",
    "omega_f = 3.5e-9 * (fx/25)**0.667\n",
    "H0 = 2.2*10**(-18)\n",
    "\n",
    "FA_prime = 4 * (np.sin(fA/fstar))**2 * (0.3 - 0.1005*(fA/fstar)**2 + 0.0140*(fA/fstar)**4)\n",
    "\n",
    "SA_gw = omega_f * (3*H0**2)/(4 * np.pi**2 * fx**3) * FA * (4*np.pi*fx*Larm/cspeed)**2\n",
    "SA_gw_prime = omega_f * (3*H0**2)/(4 * np.pi**2 * fx**3) * FA_prime * (4*np.pi*fx*Larm/cspeed)**2\n"
   ]
  },
  {
   "cell_type": "code",
   "execution_count": null,
   "metadata": {},
   "outputs": [],
   "source": [
    "plt.loglog(fA, SA, label='mldc')\n",
    "plt.loglog(fA, SA_instr + SA_gw, label='expected total')\n",
    "plt.loglog(fA, SA_instr,'--' ,  label='expected instr N')\n",
    "plt.loglog(fA, SA_gw,'--' , label='isgwb power')\n",
    "plt.title('Power in the A channel')\n",
    "plt.ylim(1e-45, 1e-38)\n",
    "plt.xlim(1e-4, 1e-1)\n",
    "plt.grid( linestyle=':', which='both')\n",
    "plt.legend()"
   ]
  },
  {
   "cell_type": "code",
   "execution_count": null,
   "metadata": {},
   "outputs": [],
   "source": [
    "85/6048"
   ]
  },
  {
   "cell_type": "code",
   "execution_count": 121,
   "metadata": {},
   "outputs": [
    {
     "data": {
      "text/plain": [
       "-48.44369749923271"
      ]
     },
     "execution_count": 121,
     "metadata": {},
     "output_type": "execute_result"
    }
   ],
   "source": [
    "np.log10(3.6e-49)"
   ]
  },
  {
   "cell_type": "code",
   "execution_count": null,
   "metadata": {
    "collapsed": true
   },
   "outputs": [],
   "source": []
  }
 ],
 "metadata": {
  "kernelspec": {
   "display_name": "LISAkern",
   "language": "python",
   "name": "lisakern"
  },
  "language_info": {
   "codemirror_mode": {
    "name": "ipython",
    "version": 2
   },
   "file_extension": ".py",
   "mimetype": "text/x-python",
   "name": "python",
   "nbconvert_exporter": "python",
   "pygments_lexer": "ipython2",
   "version": "2.7.10"
  }
 },
 "nbformat": 4,
 "nbformat_minor": 2
}
