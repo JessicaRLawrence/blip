{
 "cells": [
  {
   "cell_type": "code",
   "execution_count": 1,
   "metadata": {},
   "outputs": [
    {
     "name": "stdout",
     "output_type": "stream",
     "text": [
      "63661977\n",
      "63661977\n",
      "6366199\n"
     ]
    }
   ],
   "source": [
    "import numpy as np\n",
    "\n",
    "fmax = 0.1\n",
    "griddensity = 100\n",
    "## DO NOT MAKE ndec HIGHER THAN 8\n",
    "## SERIOUSLY DON'T, IT WILL CAUSE A MEMORY CRASH\n",
    "ndec = 8\n",
    "edec = ndec+1\n",
    "accuracy = 10**(-1*edec)\n",
    "\n",
    "# values = np.linspace(0, fmax*2/np.pi, num=griddensity)\n",
    "oavalues = np.arange(0,np.around(fmax*2/np.pi,decimals=edec),accuracy)\n",
    "# oavalues = np.arange(0,fmax*2/np.pi,accuracy)\n",
    "print(oavalues.size)\n",
    "rvalues = np.around(oavalues,decimals=ndec)\n",
    "# rvalues = np.float32(oavalues)\n",
    "print(rvalues.size)\n",
    "values = np.unique(rvalues)\n",
    "print(values.size)\n",
    "sincs = np.around(np.sinc(values/np.pi),decimals=ndec)\n",
    "# sincs = np.float32(np.sinc(values/np.pi))\n",
    "\n",
    "def makesincdict(values, sincs):\n",
    "    sincdict = dict((values[v], sincs[v]) for v in np.arange(len(values)))\n",
    "    return sincdict\n",
    "\n",
    "sincdict = makesincdict(values,sincs)\n",
    "\n",
    "# print(values)\n",
    "# print(sincs)\n",
    "# print np.sinc(values[0])\n",
    "# print np.sinc(values.max())\n",
    "                     "
   ]
  },
  {
   "cell_type": "code",
   "execution_count": 2,
   "metadata": {},
   "outputs": [
    {
     "name": "stdout",
     "output_type": "stream",
     "text": [
      "0.0\n",
      "0.06366198\n"
     ]
    }
   ],
   "source": [
    "print(values.min())\n",
    "print(values.max())"
   ]
  },
  {
   "cell_type": "code",
   "execution_count": 3,
   "metadata": {},
   "outputs": [
    {
     "name": "stdout",
     "output_type": "stream",
     "text": [
      "0\n"
     ]
    }
   ],
   "source": [
    "count=0\n",
    "for ii in range(1000):\n",
    "    n = np.around(values.max()*np.random.random_sample(),decimals=ndec)\n",
    "#     n = np.float32(values.max()*np.random.random_sample())\n",
    "    if sincdict.get(n)==None:\n",
    "        count = count+1\n",
    "        print n\n",
    "print(count)"
   ]
  },
  {
   "cell_type": "code",
   "execution_count": 4,
   "metadata": {
    "collapsed": true
   },
   "outputs": [],
   "source": [
    "import time\n",
    "\n",
    "a = values.max()*np.random.random_sample(1000000)\n",
    "a = np.around(a,decimals=ndec)"
   ]
  },
  {
   "cell_type": "code",
   "execution_count": 5,
   "metadata": {},
   "outputs": [
    {
     "name": "stdout",
     "output_type": "stream",
     "text": [
      "7.05994701385\n",
      "1.05607414246\n"
     ]
    }
   ],
   "source": [
    "t1 = time.time()\n",
    "b = np.zeros(len(a))\n",
    "c = b\n",
    "for aa in range(len(a)):\n",
    "    b[aa] = np.sinc(a[aa])\n",
    "print(time.time()-t1)\n",
    "\n",
    "t2 = time.time()\n",
    "for aa in range(len(a)):\n",
    "#     c[aa] = sincdict[np.around(a[aa],decimals=ndec)]\n",
    "    c[aa] = sincdict[a[aa]]\n",
    "print(time.time()-t2)"
   ]
  },
  {
   "cell_type": "code",
   "execution_count": 6,
   "metadata": {},
   "outputs": [
    {
     "name": "stdout",
     "output_type": "stream",
     "text": [
      "0.099976\n",
      "0.95605\n",
      "3.1406\n",
      "0.1\n",
      "0.956235\n",
      "3.14159\n",
      "0.0304379020274\n",
      "0.0304379019349\n",
      "0.030441\n",
      "<type 'numpy.float16'>\n",
      "0.00139308726238\n",
      "<type 'numpy.float64'>\n"
     ]
    }
   ],
   "source": [
    "q = fmax\n",
    "r = 0.956234894\n",
    "s = np.pi\n",
    "qq = np.around(q,decimals=ndec)\n",
    "rr = np.around(r,decimals=ndec)\n",
    "ss = np.around(s,decimals=ndec)\n",
    "qqq = np.float16(q)\n",
    "rrr = np.float16(r)\n",
    "sss = np.float16(s)\n",
    "qqqq = np.float32(q)\n",
    "rrrr = np.float32(r)\n",
    "ssss = np.float32(s)\n",
    "print(qqq)\n",
    "print(rrr)\n",
    "print(sss)\n",
    "print(qqqq)\n",
    "print(rrrr)\n",
    "print(ssss)\n",
    "print(q*r/s)\n",
    "print(qq*rr/ss)\n",
    "print(qqq*rrr/sss)\n",
    "print(type(qqq*rrr/sss))\n",
    "print(qqqq*(1-rrrr)/ssss)\n",
    "print(type(qqqq*(1-rrrr)/ssss))"
   ]
  },
  {
   "cell_type": "code",
   "execution_count": 7,
   "metadata": {},
   "outputs": [
    {
     "name": "stdout",
     "output_type": "stream",
     "text": [
      "[ 0.01032093  0.00265862  0.01191993 ...,  0.03636911  0.02346771\n",
      "  0.05607687]\n"
     ]
    }
   ],
   "source": [
    "print(a)"
   ]
  },
  {
   "cell_type": "code",
   "execution_count": 25,
   "metadata": {},
   "outputs": [
    {
     "name": "stdout",
     "output_type": "stream",
     "text": [
      "True\n"
     ]
    }
   ],
   "source": [
    "print(0.0477527==0.04775270)"
   ]
  },
  {
   "cell_type": "code",
   "execution_count": 26,
   "metadata": {},
   "outputs": [
    {
     "name": "stdout",
     "output_type": "stream",
     "text": [
      "0.02018860307127892\n"
     ]
    }
   ],
   "source": [
    "print(a[11])"
   ]
  },
  {
   "cell_type": "code",
   "execution_count": 34,
   "metadata": {},
   "outputs": [
    {
     "ename": "KeyError",
     "evalue": "0.2",
     "output_type": "error",
     "traceback": [
      "\u001b[1;31m---------------------------------------------------------------------------\u001b[0m",
      "\u001b[1;31mKeyError\u001b[0m                                  Traceback (most recent call last)",
      "\u001b[1;32m<ipython-input-34-c217fe1c7fff>\u001b[0m in \u001b[0;36m<module>\u001b[1;34m()\u001b[0m\n\u001b[1;32m----> 1\u001b[1;33m \u001b[1;32mprint\u001b[0m\u001b[1;33m(\u001b[0m\u001b[0msincdict\u001b[0m\u001b[1;33m[\u001b[0m\u001b[1;36m0.2\u001b[0m\u001b[1;33m]\u001b[0m\u001b[1;33m)\u001b[0m\u001b[1;33m\u001b[0m\u001b[0m\n\u001b[0m",
      "\u001b[1;31mKeyError\u001b[0m: 0.2"
     ]
    }
   ],
   "source": [
    "print(sincdict[0.2])"
   ]
  },
  {
   "cell_type": "code",
   "execution_count": null,
   "metadata": {
    "collapsed": true
   },
   "outputs": [],
   "source": []
  }
 ],
 "metadata": {
  "kernelspec": {
   "display_name": "Python 2",
   "language": "python",
   "name": "python2"
  },
  "language_info": {
   "codemirror_mode": {
    "name": "ipython",
    "version": 2
   },
   "file_extension": ".py",
   "mimetype": "text/x-python",
   "name": "python",
   "nbconvert_exporter": "python",
   "pygments_lexer": "ipython2",
   "version": "2.7.14"
  }
 },
 "nbformat": 4,
 "nbformat_minor": 2
}
