{
 "cells": [
  {
   "cell_type": "code",
   "execution_count": 28,
   "metadata": {},
   "outputs": [],
   "source": [
    "import numpy as np\n",
    "import matplotlib\n",
    "matplotlib.rcParams['figure.figsize'] = (14,8)\n",
    "matplotlib.rcParams.update({'font.size': 22})\n",
    "import matplotlib.pyplot as plt\n",
    "from scipy.signal import butter, sosfiltfilt, welch, tukey"
   ]
  },
  {
   "cell_type": "code",
   "execution_count": 2,
   "metadata": {},
   "outputs": [
    {
     "data": {
      "image/png": "[encoded data removed]",
      "text/plain": [
       "<Figure size 432x288 with 1 Axes>"
      ]
     },
     "metadata": {
      "needs_background": "light"
     },
     "output_type": "display_data"
    }
   ],
   "source": [
    "def psd_noise(freqs, plot=0):\n",
    "    \n",
    "    data = np.loadtxt('/home/sharan.banagiri/longpe/bilong/IO/aLIGO_O2ASD.txt')\n",
    "    f_req, psd_req = data[:, 0], data[:, 1]**2\n",
    "    \n",
    "    psd = np.interp(freqs, f_req, np.log10(psd_req))\n",
    "    psd = 10**psd\n",
    "    \n",
    "    \n",
    "    if plot:\n",
    "        plt.loglog(freqs, psd, label='psd')\n",
    "        plt.loglog(f_req, psd_req, label='psd from file')\n",
    "        plt.legend()\n",
    "        plt.xlabel('freq Hz')\n",
    "        plt.ylabel('PSD 1/Hz')\n",
    "    else:\n",
    "        return psd\n",
    "    \n",
    "## --------------------------------\n",
    "psd_noise(freqs=np.arange(0, 200, 1), plot=1)"
   ]
  },
  {
   "cell_type": "code",
   "execution_count": 3,
   "metadata": {},
   "outputs": [],
   "source": [
    "def random_noise(dur=10, fs=512):\n",
    "    \n",
    "        # Number of data points in the time series\n",
    "        N = int(fs*dur)\n",
    "\n",
    "        # prepare for FFT\n",
    "        if  np.mod(N,2)== 0 :\n",
    "            numFreqs = N/2 - 1;\n",
    "        else:\n",
    "            numFreqs = (N-1)/2;\n",
    "\n",
    "        # We will make an array of the desired frequencies\n",
    "        fout = np.fft.rfftfreq(N, 1.0/fs)\n",
    "    \n",
    "        fmin = fout[0], fout[-1]\n",
    "\n",
    "\n",
    "        Sh = psd_noise(fout, plot=0)\n",
    "\n",
    "    \n",
    "        # Amplitude for for ifft\n",
    "        norms = np.sqrt(Sh*fs*N)/2.0\n",
    "\n",
    "        # Normally distributed in frequency space\n",
    "        re1 = norms*np.random.normal(size=fout.size)\n",
    "        im1 = norms*np.random.normal(size=fout.size)\n",
    "\n",
    "        htilda = re1 + 1j*im1\n",
    "\n",
    "        # Take inverse fft to get time series data\n",
    "        ht = np.real(np.fft.irfft(htilda, N))\n",
    "\n",
    "        return ht"
   ]
  },
  {
   "cell_type": "code",
   "execution_count": 5,
   "metadata": {},
   "outputs": [],
   "source": [
    "def corr_calc(dur=5, segDur=5, fs=2048, f1=10, f2=20, type='singletime'):\n",
    "        \n",
    "        nperseg = int(fs*segDur)\n",
    "        \n",
    "        d1 = random_noise(dur=dur, fs=fs)\n",
    "        \n",
    "        nsegs = int(dur/segDur)\n",
    "        \n",
    "        fftfreqs = np.fft.rfftfreq(nperseg, 1.0/fs)\n",
    "        \n",
    "        # intitialize arraus\n",
    "        rfft = np.zeros((fftfreqs.size, nsegs), dtype='complex')\n",
    "        \n",
    "        ## windowing stuff\n",
    "        #hwin = np.hanning(nperseg)\n",
    "        hwin = tukey(nperseg, 0.5)\n",
    "        win_fact = np.mean(hwin**2)\n",
    "    \n",
    "        for ii in range(nsegs):\n",
    "            \n",
    "            idxmin = int(ii*nperseg)\n",
    "            idxmax = nperseg +idxmin\n",
    "            \n",
    "            rfft[:, ii] = np.fft.rfft(hwin*d1[idxmin:idxmax])\n",
    "            \n",
    "\n",
    "        rfft = np.sqrt(2.0/(win_fact*segDur))*rfft/(fs)\n",
    "        \n",
    "        ## Measure covariance\n",
    "        r1, r2 = rfft[fftfreqs == f1] , rfft[fftfreqs == f2]   \n",
    "        \n",
    "        \n",
    "        \n",
    "        if type=='singletime':\n",
    "            \n",
    "            cov_r = np.real(np.conj(r2)*r1)\n",
    "            cov_i = np.imag(np.conj(r2)*r1)\n",
    "            \n",
    "        \n",
    "        elif type == 'crosstime':\n",
    "            \n",
    "            R1, R2 = np.meshgrid(r1, r2)\n",
    "            \n",
    "            cov_r = np.real(np.conj(R2)*R1)\n",
    "            cov_i = np.imag(np.conj(R2)*R1)\n",
    "        \n",
    "        \n",
    "            for ii in range(nsegs):\n",
    "                cov_r[ii, ii] = np.nan\n",
    "                cov_i[ii, ii] = np.nan\n",
    "        \n",
    "        elif type == 'nearest-neighbour':\n",
    "            \n",
    "            R1, R2 = np.meshgrid(r1, r2)\n",
    "            \n",
    "            cov_R = np.real(np.conj(R2)*R1)\n",
    "            cov_I = np.imag(np.conj(R2)*R1)\n",
    "        \n",
    "            cov_r = np.concatenate((np.diagonal(cov_R, offset=1),np.diagonal(cov_R, offset=-1) ))\n",
    "            cov_i = np.concatenate((np.diagonal(cov_I, offset=1),np.diagonal(cov_I, offset=-1) ))\n",
    "    \n",
    "        cov_r = cov_r.flatten()\n",
    "        cov_i = cov_i.flatten()\n",
    "        \n",
    "        cov_r = cov_r[~np.isnan(cov_r)]\n",
    "        cov_i = cov_i[~np.isnan(cov_i)]\n",
    "        \n",
    "        \n",
    "        plt.subplot(1, 2, 1)\n",
    "        plt.hist(cov_r, bins=100)\n",
    "        plt.yscale('log')\n",
    "        plt.xlabel('real part')\n",
    "        plt.axvline(0, color='r')\n",
    "        \n",
    "        plt.subplot(1, 2, 2)\n",
    "        plt.hist(cov_i, bins=100)\n",
    "        plt.yscale('log')\n",
    "        plt.xlabel('imaginary part')\n",
    "        plt.axvline(0, color='r')\n",
    "        plt.savefig('noi_corr.pdf', dpi=150)\n",
    "        \n",
    "        "
   ]
  },
  {
   "cell_type": "code",
   "execution_count": null,
   "metadata": {},
   "outputs": [],
   "source": [
    "## Correlation between 600 Hz and 610 Hz at the same time segment. \n",
    "\n",
    "freqs, cov_r, cov_i = corr_calc(dur=10000, segDur = 4, f1=600, f2=610, type='singletime')"
   ]
  },
  {
   "cell_type": "code",
   "execution_count": null,
   "metadata": {},
   "outputs": [],
   "source": [
    "## Correlation between 600 Hz and 601 Hz at the same time segment. \n",
    "freqs, cov_r, cov_i = corr_calc(dur=10000, segDur = 4, f1=600, f2=601, type='singletime')"
   ]
  },
  {
   "cell_type": "code",
   "execution_count": null,
   "metadata": {},
   "outputs": [],
   "source": [
    "## Correlation between 699 Hz and 700 Hz at the same time segment. \n",
    "freqs, cov_r, cov_i = corr_calc(dur=10000, segDur = 4, f1=699, f2=700, type='singletime')"
   ]
  },
  {
   "cell_type": "code",
   "execution_count": null,
   "metadata": {},
   "outputs": [],
   "source": [
    "## Correlation between 650 Hz and 651 Hz at the same time segment. \n",
    "freqs, cov_r, cov_i = corr_calc(dur=2000, segDur = 4, f1=650, f2=651, type='crosstime')"
   ]
  },
  {
   "cell_type": "code",
   "execution_count": null,
   "metadata": {},
   "outputs": [],
   "source": [
    "## Correlation between 650 Hz and 700 Hz across all time segments\n",
    "freqs, cov_r, cov_i = corr_calc(dur=2000, segDur = 4, f1=650, f2=700, type='crosstime')"
   ]
  },
  {
   "cell_type": "code",
   "execution_count": 1,
   "metadata": {},
   "outputs": [
    {
     "ename": "NameError",
     "evalue": "name 'corr_calc' is not defined",
     "output_type": "error",
     "traceback": [
      "\u001b[0;31m---------------------------------------------------------------------------\u001b[0m",
      "\u001b[0;31mNameError\u001b[0m                                 Traceback (most recent call last)",
      "\u001b[0;32m<ipython-input-1-7eb747a72994>\u001b[0m in \u001b[0;36m<module>\u001b[0;34m\u001b[0m\n\u001b[1;32m      1\u001b[0m \u001b[0;31m## Correlation between 650 Hz and 650 Hz across all time segments\u001b[0m\u001b[0;34m\u001b[0m\u001b[0;34m\u001b[0m\u001b[0;34m\u001b[0m\u001b[0m\n\u001b[0;32m----> 2\u001b[0;31m \u001b[0mfreqs\u001b[0m\u001b[0;34m,\u001b[0m \u001b[0mcov_r\u001b[0m\u001b[0;34m,\u001b[0m \u001b[0mcov_i\u001b[0m \u001b[0;34m=\u001b[0m \u001b[0mcorr_calc\u001b[0m\u001b[0;34m(\u001b[0m\u001b[0mdur\u001b[0m\u001b[0;34m=\u001b[0m\u001b[0;36m2000\u001b[0m\u001b[0;34m,\u001b[0m \u001b[0msegDur\u001b[0m \u001b[0;34m=\u001b[0m \u001b[0;36m4\u001b[0m\u001b[0;34m,\u001b[0m \u001b[0mf1\u001b[0m\u001b[0;34m=\u001b[0m\u001b[0;36m650\u001b[0m\u001b[0;34m,\u001b[0m \u001b[0mf2\u001b[0m\u001b[0;34m=\u001b[0m\u001b[0;36m650\u001b[0m\u001b[0;34m,\u001b[0m \u001b[0mtype\u001b[0m\u001b[0;34m=\u001b[0m\u001b[0;34m'crosstime'\u001b[0m\u001b[0;34m)\u001b[0m\u001b[0;34m\u001b[0m\u001b[0;34m\u001b[0m\u001b[0m\n\u001b[0m",
      "\u001b[0;31mNameError\u001b[0m: name 'corr_calc' is not defined"
     ]
    }
   ],
   "source": [
    "## Correlation between 650 Hz and 650 Hz across all time segments\n",
    "freqs, cov_r, cov_i = corr_calc(dur=2000, segDur = 4, f1=650, f2=650, type='crosstime')"
   ]
  },
  {
   "cell_type": "code",
   "execution_count": null,
   "metadata": {},
   "outputs": [],
   "source": [
    "## Correlation between 650 Hz and 650 Hz across all time segments\n",
    "freqs, cov_r, cov_i = corr_calc(dur=20000, segDur = 4, f1=650, f2=650, type='nearest-neighbour')"
   ]
  },
  {
   "cell_type": "code",
   "execution_count": 30,
   "metadata": {},
   "outputs": [
    {
     "data": {
      "text/plain": [
       "Text(0, 0.5, 'Output power')"
      ]
     },
     "execution_count": 30,
     "metadata": {},
     "output_type": "execute_result"
    },
    {
     "data": {
      "image/png": "[encoded data removed]",
      "text/plain": [
       "<Figure size 1008x576 with 1 Axes>"
      ]
     },
     "metadata": {},
     "output_type": "display_data"
    }
   ],
   "source": [
    "x = np.linspace(-4, 4, 10000)\n",
    "y = - np.cos(np.pi*x) + 1\n",
    "\n",
    "ax = plt.axes()\n",
    "plt.ylim(0, 2.1)\n",
    "plt.axvline(0, color='w', lw=1)\n",
    "plt.plot(x, y, color='r')\n",
    "plt.xticks([])\n",
    "plt.yticks([])\n",
    "ax.set_facecolor('k')\n",
    "plt.ylabel('Output power')"
   ]
  },
  {
   "cell_type": "code",
   "execution_count": null,
   "metadata": {},
   "outputs": [],
   "source": []
  }
 ],
 "metadata": {
  "kernelspec": {
   "display_name": "ligo-py37",
   "language": "python",
   "name": "ligo-py37"
  },
  "language_info": {
   "codemirror_mode": {
    "name": "ipython",
    "version": 3
   },
   "file_extension": ".py",
   "mimetype": "text/x-python",
   "name": "python",
   "nbconvert_exporter": "python",
   "pygments_lexer": "ipython3",
   "version": "3.7.3"
  }
 },
 "nbformat": 4,
 "nbformat_minor": 4
}
