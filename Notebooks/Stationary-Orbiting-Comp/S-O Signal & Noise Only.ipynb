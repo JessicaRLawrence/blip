{
 "cells": [
  {
   "cell_type": "code",
   "execution_count": 1,
   "metadata": {},
   "outputs": [],
   "source": [
    "import numpy as np\n",
    "import os\n",
    "import matplotlib.pyplot as plt"
   ]
  },
  {
   "cell_type": "code",
   "execution_count": 18,
   "metadata": {},
   "outputs": [],
   "source": [
    "## Signal-only analysis"
   ]
  },
  {
   "cell_type": "code",
   "execution_count": 67,
   "metadata": {},
   "outputs": [
    {
     "name": "stdout",
     "output_type": "stream",
     "text": [
      "[ 5  6  7  8  9 10 11 12 13]\n",
      "['MLDCsegment3', 'MLDCsegment4', 'MLDCsegment5', 'MLDCsegment6', 'MLDCsegment7', 'MLDCsegment8', 'MLDCsegment9', 'MLDCsegment10', 'MLDCsegment11']\n",
      "['test_osmulti_s5-s', 'test_osmulti_s6-s', 'test_osmulti_s7-s', 'test_osmulti_s8-s', 'test_osmulti_s9-s', 'test_osmulti_s10-s', 'test_osmulti_s11-s', 'test_osmulti_s12-s', 'test_osmulti_s13-s']\n",
      "['test_osmulti_s5-n', 'test_osmulti_s6-n', 'test_osmulti_s7-n', 'test_osmulti_s8-n', 'test_osmulti_s9-n', 'test_osmulti_s10-n', 'test_osmulti_s11-n', 'test_osmulti_s12-n', 'test_osmulti_s13-n']\n",
      "['test_osmulti_o5-s', 'test_osmulti_o6-s', 'test_osmulti_o7-s', 'test_osmulti_o8-s', 'test_osmulti_o9-s', 'test_osmulti_o10-s', 'test_osmulti_o11-s', 'test_osmulti_o12-s', 'test_osmulti_o13-s']\n",
      "['test_osmulti_o5-n', 'test_osmulti_o6-n', 'test_osmulti_o7-n', 'test_osmulti_o8-n', 'test_osmulti_o9-n', 'test_osmulti_o10-n', 'test_osmulti_o11-n', 'test_osmulti_o12-n', 'test_osmulti_o13-n']\n",
      "[5000000. 5000000. 5000000. 5000000. 5000000. 5000000. 5000000. 5000000.\n",
      " 5000000.]\n",
      "[2500000. 5000000.       0. 1000000. 3000000. 7500000.  500000. 4000000.\n",
      " 6500000.]\n"
     ]
    }
   ],
   "source": [
    "## Construct folder & file names as lists of strings for every seed used.\n",
    "ncases = 9\n",
    "casenums = np.arange(5,ncases+5)\n",
    "print(casenums)\n",
    "# casenums[1:] = casenums[1:]+1\n",
    "seed = '10'\n",
    "segnums = np.array([3,4,5,6,7,8,9,10,11])\n",
    "durs = 5e6*np.ones(len(segnums))\n",
    "starts = np.array([2.5e6,5e6,0,1e6,3e6,7.5e6,5e5,4e6,6.5e6])\n",
    "cases = ['MLDCsegment'+sn.astype(str) for sn in segnums]\n",
    "ssruns = ['test_osmulti_s'+cn.astype(str)+'-s' for cn in casenums]\n",
    "nsruns = ['test_osmulti_s'+cn.astype(str)+'-n' for cn in casenums]\n",
    "soruns = ['test_osmulti_o'+cn.astype(str)+'-s' for cn in casenums]\n",
    "noruns = ['test_osmulti_o'+cn.astype(str)+'-n' for cn in casenums]\n",
    "\n",
    "slogs = 'logz_rs'+seed+'_s'\n",
    "serrs = 'logzerr_rs'+seed+'_s'\n",
    "ologs = 'logz_rs'+seed+'_o'\n",
    "oerrs = 'logzerr_rs'+seed+'_o'\n",
    "print(cases)\n",
    "print(ssruns)\n",
    "print(nsruns)\n",
    "print(soruns)\n",
    "print(noruns)\n",
    "print(durs)\n",
    "print(starts)"
   ]
  },
  {
   "cell_type": "code",
   "execution_count": 20,
   "metadata": {},
   "outputs": [
    {
     "name": "stdout",
     "output_type": "stream",
     "text": [
      "[4453036.63982661 4453219.60825734 4453204.52621473 4453277.63322802\n",
      " 4453254.06505598 4453071.82233156 4452988.76625214 4453079.53554776\n",
      " 4453284.78551703]\n",
      "[0.18389856 0.17534214 0.16284297 0.17868659 0.187405   0.17293732\n",
      " 0.16786368 0.1757883  0.17874254]\n",
      "[4453001.16214792 4453195.32432638 4453176.30180925 4453226.731788\n",
      " 4453212.70769998 4453027.38546562 4452949.86769346 4453037.11611687\n",
      " 4453255.06939279]\n",
      "[0.21356143 0.21933461 0.21195877 0.21543804 0.20712205 0.21458835\n",
      " 0.21423604 0.20927879 0.2156585 ]\n"
     ]
    }
   ],
   "source": [
    "## Pull final logz, logzerr from all orbiting runs.\n",
    "sologz = np.zeros(len(casenums))\n",
    "sologzerr = np.zeros(len(casenums))\n",
    "nologz = np.zeros(len(casenums))\n",
    "nologzerr = np.zeros(len(casenums))\n",
    "i = 0\n",
    "\n",
    "for rr in soruns:\n",
    "    sologz[i] = np.loadtxt(\"../../blip/storage/shared storage/OScomp all outputs/\"+rr+'/'+ologs+'.txt')[-1]\n",
    "    sologzerr[i] = np.loadtxt(\"../../blip/storage/shared storage/OScomp all outputs/\"+rr+'/'+oerrs+'.txt')[-1]\n",
    "    i = i+1\n",
    "i=0\n",
    "for rr in noruns:\n",
    "    nologz[i] = np.loadtxt(\"../../blip/storage/shared storage/OScomp all outputs/\"+rr+'/'+ologs+'.txt')[-1]\n",
    "    nologzerr[i] = np.loadtxt(\"../../blip/storage/shared storage/OScomp all outputs/\"+rr+'/'+oerrs+'.txt')[-1]\n",
    "    i = i+1\n",
    "print(sologz)\n",
    "print(sologzerr)\n",
    "print(nologz)\n",
    "print(nologzerr)"
   ]
  },
  {
   "cell_type": "code",
   "execution_count": 68,
   "metadata": {},
   "outputs": [
    {
     "name": "stdout",
     "output_type": "stream",
     "text": [
      "[4453017.34675041 4453203.6794776  4453196.87059883 4453255.95898406\n",
      " 4453241.44750338 4453048.92117617 4452971.06764684 4453062.67887354\n",
      " 4453267.76376421]\n",
      "[0.18017545 0.17851402 0.17204718 0.17105147 0.17069475 0.16872778\n",
      " 0.17675379 0.17583968 0.17765397]\n",
      "[4453002.73195902 4453196.5503912  4453180.73790232 4453228.77160956\n",
      " 4453216.10400605 4453028.4193189  4452952.85953774 4453040.40548814\n",
      " 4453256.79730188]\n",
      "[0.21536219 0.21007494 0.21663254 0.21369107 0.22286025 0.22047294\n",
      " 0.20264935 0.21499137 0.21621712]\n"
     ]
    }
   ],
   "source": [
    "## Do the same for all stationary runs. \n",
    "sslogz = np.zeros(len(casenums))\n",
    "sslogzerr = np.zeros(len(casenums))\n",
    "nslogz = np.zeros(len(casenums))\n",
    "nslogzerr = np.zeros(len(casenums))\n",
    "i = 0\n",
    "for rr in ssruns:\n",
    "    sslogz[i] = np.loadtxt(\"../../blip/storage/shared storage/OScomp all outputs/\"+rr+'/'+slogs+'.txt')[-1]\n",
    "    sslogzerr[i] = np.loadtxt(\"../../blip/storage/shared storage/OScomp all outputs/\"+rr+'/'+serrs+'.txt')[-1]\n",
    "    i = i+1\n",
    "i=0\n",
    "for rr in nsruns:\n",
    "    nslogz[i] = np.loadtxt(\"../../blip/storage/shared storage/OScomp all outputs/\"+rr+'/'+slogs+'.txt')[-1]\n",
    "    nslogzerr[i] = np.loadtxt(\"../../blip/storage/shared storage/OScomp all outputs/\"+rr+'/'+serrs+'.txt')[-1]\n",
    "    i = i+1\n",
    "print(sslogz)\n",
    "print(sslogzerr)\n",
    "print(nslogz)\n",
    "print(nslogzerr)"
   ]
  },
  {
   "cell_type": "code",
   "execution_count": 69,
   "metadata": {},
   "outputs": [
    {
     "name": "stdout",
     "output_type": "stream",
     "text": [
      "[19.29307621 15.92877974  7.6556159  21.67424397 12.6175526  22.90115539\n",
      " 17.6986053  16.85667422 17.02175282]\n",
      "[-1.5698111  -1.22606482 -4.43609307 -2.03982155 -3.39630607 -1.03385328\n",
      " -2.99184428 -3.28937128 -1.72790909]\n"
     ]
    }
   ],
   "source": [
    "## Calculate Bayes' Factor  of orbiting v. stationary case. K=Z_o/Z_s=exp(logZ_o - logZ_s)\n",
    "\n",
    "logKs = sologz - sslogz\n",
    "logKn = nologz - nslogz\n",
    "print(logKs)\n",
    "print(logKn)"
   ]
  },
  {
   "cell_type": "code",
   "execution_count": 70,
   "metadata": {},
   "outputs": [
    {
     "name": "stdout",
     "output_type": "stream",
     "text": [
      "[0.25745266 0.25022414 0.23689252 0.24736108 0.2534903  0.24161204\n",
      " 0.24376241 0.24863853 0.25201156]\n",
      "[0.30329747 0.30370899 0.30307784 0.30344261 0.30424699 0.30766292\n",
      " 0.29489632 0.3000315  0.30538243]\n",
      "[4.96705376 3.9857652  1.81355814 5.36136431 3.19842718 5.53319495\n",
      " 4.31425476 4.19121872 4.28967848]\n",
      "[-0.47611974 -0.37236691 -1.3444815  -0.61896879 -1.0333159  -0.31807832\n",
      " -0.88228387 -0.986915   -0.52767308]\n"
     ]
    }
   ],
   "source": [
    "## Calculate error in Bayes' Factor\n",
    "## Error is 1-sigma & approximate, see dynesty documentation for further details.\n",
    "sigmaK_s = np.sqrt(sologzerr**2+sslogzerr**2)\n",
    "sigmaK_n = np.sqrt(nologzerr**2+nslogzerr**2)\n",
    "print(sigmaK_s)\n",
    "print(sigmaK_n)\n",
    "Kerr_s = logKs*sigmaK_s\n",
    "Kerr_n = logKn*sigmaK_n\n",
    "print(Kerr_s)\n",
    "print(Kerr_n)"
   ]
  },
  {
   "cell_type": "code",
   "execution_count": 71,
   "metadata": {},
   "outputs": [
    {
     "data": {
      "image/png": "[encoded data removed]",
      "text/plain": [
       "<Figure size 576x432 with 1 Axes>"
      ]
     },
     "metadata": {
      "needs_background": "light"
     },
     "output_type": "display_data"
    }
   ],
   "source": [
    "## Plot log Bayes' number vs. segment start point\n",
    "plt.figure(figsize=(8,6))#,dpi=200)\n",
    "\n",
    "plt.errorbar(starts,logKs,xerr=None,yerr=Kerr_s,ls='none',marker='.')\n",
    "plt.errorbar(starts,logKn,xerr=None,yerr=Kerr_s,ls='none',marker='.')\n",
    "\n",
    "plt.title('Signal and Noise Log Bayes Factors')\n",
    "plt.xlabel('Segment Start (s)')\n",
    "plt.ylabel(\"Log Bayes' Factor\")\n",
    "plt.legend(('Signal','Noise'))\n",
    "plt.show()"
   ]
  },
  {
   "cell_type": "code",
   "execution_count": 75,
   "metadata": {},
   "outputs": [],
   "source": [
    "# ## Plot log Bayes' number vs. segment start point\n",
    "# ## Exclude outliers\n",
    "# plt.figure(figsize=(8,6))#,dpi=200)\n",
    "\n",
    "# plt.errorbar(starts[2:],logKs[2:],xerr=None,yerr=Kerr_s[2:],ls='none',marker='.')\n",
    "# plt.errorbar(starts[2:],logKn[2:],xerr=None,yerr=Kerr_s[2:],ls='none',marker='.')\n",
    "\n",
    "# plt.title('Signal and Noise Log Bayes Factors')\n",
    "# plt.xlabel('Segment Start (s)')\n",
    "# plt.ylabel(\"Log Bayes' Factor\")\n",
    "# plt.legend(('Signal','Noise'))\n",
    "# plt.show()"
   ]
  },
  {
   "cell_type": "code",
   "execution_count": 76,
   "metadata": {},
   "outputs": [],
   "source": [
    "# ## Plot log Bayes' number vs. segment start point\n",
    "# ## Investigate outliers\n",
    "# plt.figure(figsize=(8,6))#,dpi=200)\n",
    "\n",
    "# plt.errorbar(starts[:2],logKs[:2],xerr=None,yerr=Kerr_s[:2],ls='none',marker='.')\n",
    "# plt.errorbar(starts[:2],logKn[:2],xerr=None,yerr=Kerr_s[:2],ls='none',marker='.')\n",
    "\n",
    "# plt.title('Signal and Noise Log Bayes Factors')\n",
    "# plt.xlabel('Segment Start (s)')\n",
    "# plt.ylabel(\"Log Bayes' Factor\")\n",
    "# plt.legend(('Signal','Noise'))\n",
    "# plt.show()"
   ]
  },
  {
   "cell_type": "code",
   "execution_count": 74,
   "metadata": {},
   "outputs": [
    {
     "data": {
      "image/png": "[encoded data removed]",
      "text/plain": [
       "<Figure size 576x432 with 1 Axes>"
      ]
     },
     "metadata": {
      "needs_background": "light"
     },
     "output_type": "display_data"
    }
   ],
   "source": [
    "## Plot log Bayes' number vs. segment number\n",
    "plt.figure(figsize=(8,6))#,dpi=200)\n",
    "\n",
    "plt.errorbar(segnums,logKs,xerr=None,yerr=Kerr_s,ls='none',marker='.')\n",
    "plt.errorbar(segnums,logKn,xerr=None,yerr=Kerr_s,ls='none',marker='.')\n",
    "\n",
    "plt.title('Signal and Noise Log Bayes Factors')\n",
    "plt.xlabel('Segment')\n",
    "plt.ylabel(\"Log Bayes' Factor\")\n",
    "plt.legend(('Signal','Noise'))\n",
    "plt.show()"
   ]
  },
  {
   "cell_type": "code",
   "execution_count": 87,
   "metadata": {},
   "outputs": [
    {
     "name": "stdout",
     "output_type": "stream",
     "text": [
      "(16.84971734767573, -2.41234161477122)\n"
     ]
    }
   ],
   "source": [
    "## Compute mean logK for signal and noise\n",
    "\n",
    "avelogKs = np.mean(logKs)\n",
    "avelogKn = np.mean(logKn)\n",
    "print((avelogKs,avelogKn))"
   ]
  },
  {
   "cell_type": "code",
   "execution_count": 79,
   "metadata": {},
   "outputs": [],
   "source": [
    "# ## Plot log Bayes' number vs. segment number\n",
    "# ## Investigate stationary-leaning factors\n",
    "# plt.figure(figsize=(8,6))#,dpi=200)\n",
    "\n",
    "# plt.errorbar(segnums[5:7],logKs[5:7],xerr=None,yerr=Kerr_s[5:7],ls='none',marker='.')\n",
    "# plt.errorbar(segnums[5:7],logKn[5:7],xerr=None,yerr=Kerr_s[5:7],ls='none',marker='.')\n",
    "\n",
    "\n",
    "# plt.title('Signal and Noise Log Bayes Factors')\n",
    "# plt.xlabel('Segment Number')\n",
    "# plt.ylabel(\"Log Bayes' Factor\")\n",
    "# plt.legend(('Signal','Noise'))\n",
    "# plt.show()"
   ]
  },
  {
   "cell_type": "code",
   "execution_count": 81,
   "metadata": {},
   "outputs": [],
   "source": [
    "# ## Plot log Bayes' number vs. start time\n",
    "# ## Investigate stationary-leaning factors\n",
    "\n",
    "# print('logKs:')\n",
    "# print(logKs[5:7])\n",
    "# print('logKn:')\n",
    "# print(logKn[5:7])\n",
    "# print('logZs:')\n",
    "# print(sologz[5:7])\n",
    "# print(sslogz[5:7])\n",
    "# print('logZn:')\n",
    "# print(nologz[5:7])\n",
    "# print(nslogz[5:7])\n",
    "\n",
    "# plt.figure(figsize=(8,6))#,dpi=200)\n",
    "\n",
    "# plt.errorbar(starts[5:7],logKs[5:7],xerr=None,yerr=Kerr_s[5:7],ls='none',marker='.')\n",
    "# plt.errorbar(starts[5:7],logKn[5:7],xerr=None,yerr=Kerr_s[5:7],ls='none',marker='.')\n",
    "\n",
    "\n",
    "# plt.title('Signal and Noise Log Bayes Factors')\n",
    "# plt.xlabel('Segment Start (s)')\n",
    "# plt.ylabel(\"Log Bayes' Factor\")\n",
    "# plt.legend(('Signal','Noise'))\n",
    "# plt.show()"
   ]
  },
  {
   "cell_type": "code",
   "execution_count": 83,
   "metadata": {},
   "outputs": [
    {
     "data": {
      "image/png": "[encoded data removed]",
      "text/plain": [
       "<Figure size 576x432 with 1 Axes>"
      ]
     },
     "metadata": {
      "needs_background": "light"
     },
     "output_type": "display_data"
    }
   ],
   "source": [
    "##Investigate signal evidences\n",
    "plt.figure(figsize=(8,6))#,dpi=200)\n",
    "\n",
    "plt.errorbar(segnums,sologz,xerr=None,yerr=sologzerr,ls='none',marker='.')\n",
    "plt.errorbar(segnums,sslogz,xerr=None,yerr=sslogzerr,ls='none',marker='.')\n",
    "\n",
    "plt.title('Signal Log Evidence')\n",
    "plt.xlabel('Segment Number')\n",
    "plt.ylabel(\"Log Evidence\")\n",
    "plt.legend(('Orbiting','Stationary'))\n",
    "plt.show()"
   ]
  },
  {
   "cell_type": "code",
   "execution_count": null,
   "metadata": {},
   "outputs": [],
   "source": []
  },
  {
   "cell_type": "code",
   "execution_count": null,
   "metadata": {},
   "outputs": [],
   "source": []
  },
  {
   "cell_type": "code",
   "execution_count": 85,
   "metadata": {},
   "outputs": [
    {
     "data": {
      "image/png": "[encoded data removed]",
      "text/plain": [
       "<Figure size 576x432 with 1 Axes>"
      ]
     },
     "metadata": {
      "needs_background": "light"
     },
     "output_type": "display_data"
    }
   ],
   "source": [
    "##Investigate noise evidences\n",
    "\n",
    "plt.figure(figsize=(8,6))#,dpi=200)\n",
    "\n",
    "plt.errorbar(segnums,nologz,xerr=None,yerr=nologzerr,ls='none',marker='.')\n",
    "plt.errorbar(segnums,nslogz,xerr=None,yerr=nslogzerr,ls='none',marker='.')\n",
    "\n",
    "plt.title('Noise Log Evidence')\n",
    "plt.xlabel('Segment Number')\n",
    "plt.ylabel(\"Log Evidence\")\n",
    "plt.legend(('Orbiting','Stationary'))\n",
    "plt.show()"
   ]
  },
  {
   "cell_type": "code",
   "execution_count": null,
   "metadata": {},
   "outputs": [],
   "source": []
  },
  {
   "cell_type": "code",
   "execution_count": null,
   "metadata": {},
   "outputs": [],
   "source": []
  },
  {
   "cell_type": "code",
   "execution_count": 86,
   "metadata": {},
   "outputs": [
    {
     "name": "stdout",
     "output_type": "stream",
     "text": [
      "[14.61479139  7.1290864  16.1326965  27.1873745  25.34349733 20.50185727\n",
      " 18.2081091  22.2733854  10.96646234]\n",
      "[False False False False False False False False False]\n"
     ]
    },
    {
     "data": {
      "image/png": "[encoded data removed]",
      "text/plain": [
       "<Figure size 576x432 with 1 Axes>"
      ]
     },
     "metadata": {
      "needs_background": "light"
     },
     "output_type": "display_data"
    },
    {
     "data": {
      "image/png": "[encoded data removed]",
      "text/plain": [
       "<Figure size 576x432 with 1 Axes>"
      ]
     },
     "metadata": {
      "needs_background": "light"
     },
     "output_type": "display_data"
    }
   ],
   "source": [
    "## Calculate (non-physical) ratio of signal and noise evidences to compare efficacy of signal and noise analyses.\n",
    "\n",
    "logSNRo = sologz - nologz\n",
    "logSNRs = sslogz - nslogz\n",
    "\n",
    "print(logSNRs)\n",
    "print(sslogz==nslogz)\n",
    "\n",
    "sigmaSNRo = np.sqrt(sologzerr**2+nologzerr**2)\n",
    "sigmaSNRs = np.sqrt(sslogzerr**2+nslogzerr**2)\n",
    "\n",
    "SNRerro = logSNRo*sigmaSNRo\n",
    "SNRerrs = logSNRs*sigmaSNRs\n",
    "\n",
    "## Plot for Orbiting Case\n",
    "plt.figure(figsize=(8,6))#,dpi=200)\n",
    "\n",
    "plt.errorbar(segnums,logSNRo,xerr=None,yerr=SNRerro,ls='none',marker='.')\n",
    "#plt.errorbar(segnums,nslogz,xerr=None,yerr=nslogzerr,ls='none',marker='.')\n",
    "\n",
    "plt.title('Ratio of Signal to Noise Evidences (Orbiting)')\n",
    "plt.xlabel('Segment Number')\n",
    "plt.ylabel(\"log Ratio\")\n",
    "#plt.legend(('Orbiting','Stationary'))\n",
    "plt.show()\n",
    "\n",
    "## Plot for Stationary Case\n",
    "plt.figure(figsize=(8,6))#,dpi=200)\n",
    "\n",
    "plt.errorbar(segnums,logSNRs,xerr=None,yerr=SNRerrs,ls='none',marker='.')\n",
    "#plt.errorbar(segnums,nslogz,xerr=None,yerr=nslogzerr,ls='none',marker='.')\n",
    "\n",
    "plt.title('Ratio of Signal to Noise Evidences (Stationary)')\n",
    "plt.xlabel('Segment Number')\n",
    "plt.ylabel(\"log Ratio\")\n",
    "#plt.legend(('Orbiting','Stationary'))\n",
    "plt.show()\n"
   ]
  },
  {
   "cell_type": "code",
   "execution_count": null,
   "metadata": {},
   "outputs": [],
   "source": []
  }
 ],
 "metadata": {
  "kernelspec": {
   "display_name": "Python 2",
   "language": "python",
   "name": "python2"
  },
  "language_info": {
   "codemirror_mode": {
    "name": "ipython",
    "version": 2
   },
   "file_extension": ".py",
   "mimetype": "text/x-python",
   "name": "python",
   "nbconvert_exporter": "python",
   "pygments_lexer": "ipython2",
   "version": "2.7.16"
  }
 },
 "nbformat": 4,
 "nbformat_minor": 2
}
