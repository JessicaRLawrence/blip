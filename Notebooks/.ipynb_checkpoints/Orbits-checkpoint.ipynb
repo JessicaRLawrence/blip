{
 "cells": [
  {
   "cell_type": "code",
   "execution_count": 1,
   "metadata": {
    "collapsed": true
   },
   "outputs": [],
   "source": [
    "from __future__ import division\n",
    "import numpy as np\n",
    "import matplotlib\n",
    "matplotlib.rcParams['figure.figsize'] = (14,10)\n",
    "import matplotlib.pyplot as plt"
   ]
  },
  {
   "cell_type": "code",
   "execution_count": 11,
   "metadata": {},
   "outputs": [],
   "source": [
    "times = np.arange(0, 1e6, 10 )\n",
    "alpha = 2*np.pi*times/(60*60*24*365.5)\n",
    "\n",
    "beta1 = 2*np.pi/3\n",
    "beta2 = beta1 + 1\n",
    "beta3 = beta2 + 1\n",
    "\n",
    "# distance to earth from sun in meters\n",
    "a = 149.6*1e9\n",
    "Larm = 2.5e9\n",
    "\n",
    "\n",
    "# eccentricity\n",
    "e = Larm/(2*a*np.sqrt(3))\n",
    "\n",
    "## For 1\n",
    "x1 = a*np.cos(alpha) + a*e*(np.sin(alpha)*np.cos(alpha)*np.sin(beta1) - (1 + (np.sin(alpha))**2 )* np.cos(beta1))\n",
    "y1 = a*np.sin(alpha) + a*e*(np.sin(alpha)*np.cos(alpha)*np.sin(beta1) - (1 + (np.cos(alpha))**2 )* np.sin(beta1))\n",
    "z1 = - np.sqrt(3)*a*e*np.cos(alpha - beta1)\n",
    "\n",
    "## For 2\n",
    "x2 = a*np.cos(alpha) + a*e*(np.sin(alpha)*np.cos(alpha)*np.sin(beta2) - (1 + (np.sin(alpha))**2 )* np.cos(beta2))\n",
    "y2 = a*np.sin(alpha) + a*e*(np.sin(alpha)*np.cos(alpha)*np.sin(beta2) - (1 + (np.cos(alpha))**2 )* np.sin(beta2))\n",
    "z2 = - np.sqrt(3)*a*e*np.cos(alpha - beta2)\n",
    "\n",
    "## For 3\n",
    "## For 2\n",
    "x3 = a*np.cos(alpha) + a*e*(np.sin(alpha)*np.cos(alpha)*np.sin(beta3) - (1 + (np.sin(alpha))**2 )* np.cos(beta3))\n",
    "y3 = a*np.sin(alpha) + a*e*(np.sin(alpha)*np.cos(alpha)*np.sin(beta3) - (1 + (np.cos(alpha))**2 )* np.sin(beta3))\n",
    "z3 = - np.sqrt(3)*a*e*np.cos(alpha - beta3)\n",
    "\n",
    "## distance b/w the satellites\n",
    "r12 = np.sqrt( (x2-x1)**2 + (y2-y1)**2 + (z2-z1)**2)\n",
    "r32 = np.sqrt( (x2-x3)**2 + (y2-y3)**2 + (z2-z3)**2)\n",
    "r31 = np.sqrt( (x1-x3)**2 + (y1-y3)**2 + (z1-z3)**2)"
   ]
  },
  {
   "cell_type": "code",
   "execution_count": 12,
   "metadata": {},
   "outputs": [
    {
     "data": {
      "text/plain": [
       "<matplotlib.legend.Legend at 0x110a19ed0>"
      ]
     },
     "execution_count": 12,
     "metadata": {},
     "output_type": "execute_result"
    },
    {
     "data": {
      "image/png": "[encoded data removed]",
      "text/plain": [
       "<matplotlib.figure.Figure at 0x109a08290>"
      ]
     },
     "metadata": {},
     "output_type": "display_data"
    }
   ],
   "source": [
    "plt.loglog(times, r12, label='1-2')\n",
    "plt.loglog(times, r32, label='3-2')\n",
    "plt.loglog(times, r31, label='1-3')\n",
    "plt.axhline(Larm, label='reference' )\n",
    "plt.legend()\n"
   ]
  },
  {
   "cell_type": "code",
   "execution_count": null,
   "metadata": {
    "collapsed": true
   },
   "outputs": [],
   "source": []
  }
 ],
 "metadata": {
  "kernelspec": {
   "display_name": "LISAkern",
   "language": "python",
   "name": "lisakern"
  },
  "language_info": {
   "codemirror_mode": {
    "name": "ipython",
    "version": 2
   },
   "file_extension": ".py",
   "mimetype": "text/x-python",
   "name": "python",
   "nbconvert_exporter": "python",
   "pygments_lexer": "ipython2",
   "version": "2.7.10"
  }
 },
 "nbformat": 4,
 "nbformat_minor": 2
}
