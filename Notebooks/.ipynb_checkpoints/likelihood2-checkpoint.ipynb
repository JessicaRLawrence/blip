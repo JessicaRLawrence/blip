{
 "cells": [
  {
   "cell_type": "code",
   "execution_count": 1,
   "metadata": {
    "collapsed": true
   },
   "outputs": [],
   "source": [
    "from __future__ import division\n",
    "import numpy as np\n",
    "import matplotlib\n",
    "from scipy.signal import welch, periodogram, butter, sosfiltfilt\n",
    "\n",
    "font = {'weight' : 'bold', 'size'   : 18}\n",
    "\n",
    "import matplotlib\n",
    "matplotlib.rc('font', **font)\n",
    "matplotlib.rcParams['figure.figsize'] = (10, 8)\n",
    "import matplotlib.pyplot as plt\n",
    "\n",
    "import sys\n",
    "sys.path.append('../')\n",
    "from src.makeLISAdata import LISAdata"
   ]
  },
  {
   "cell_type": "markdown",
   "metadata": {},
   "source": [
    "### Recover sigma in time domain"
   ]
  },
  {
   "cell_type": "code",
   "execution_count": 2,
   "metadata": {},
   "outputs": [
    {
     "data": {
      "image/png": "[encoded data removed]",
      "text/plain": [
       "<matplotlib.figure.Figure at 0x1072a06d0>"
      ]
     },
     "metadata": {},
     "output_type": "display_data"
    }
   ],
   "source": [
    "def time_domain(tsig=2.5, fs=256, dur=10, doplot=0):\n",
    "\n",
    "    nperseg = int(fs*dur)\n",
    "\n",
    "    data = np.random.normal(scale=tsig, size=nperseg)\n",
    "\n",
    "    if doplot:\n",
    "        sig_vals = np.linspace(0.1*tsig, 10*tsig, 10000)\n",
    "\n",
    "        loglike = np.zeros(sig_vals.shape)\n",
    "\n",
    "        for ii in range(sig_vals.size):\n",
    "            loglike[ii] = -0.5*np.sum(data**2/(sig_vals[ii]**2) + np.log(2*np.pi*(sig_vals[ii])**2))\n",
    "    \n",
    "\n",
    "        like = np.exp(loglike - loglike.max())\n",
    "        plt.plot(sig_vals, like, color='b')\n",
    "        plt.axvline(tsig, color='r', label='true std')\n",
    "        plt.xlim(0.98*tsig, 1.02*tsig)\n",
    "        plt.xlabel('std of data')\n",
    "        plt.ylabel('likelihood')\n",
    "        plt.legend()\n",
    "    return data    \n",
    "################################################################\n",
    "data = time_domain(tsig=2.5, fs=1024, dur=100, doplot=1)"
   ]
  },
  {
   "cell_type": "markdown",
   "metadata": {},
   "source": [
    "### Now recover sigma in freq domain"
   ]
  },
  {
   "cell_type": "code",
   "execution_count": 3,
   "metadata": {},
   "outputs": [],
   "source": [
    "##First bandpass\n",
    "def freq_domain(tsig=3, fmin=10, fmax=100, fs=256, diagplot=0, dur=10):\n",
    "    \n",
    "    ## bandpass\n",
    "    dobandpass = 1\n",
    "    \n",
    "    nperseg = int(fs*dur)\n",
    "\n",
    "    \n",
    "    ## determine pass band frequencies which are to be slightly higher\n",
    "    fmin_pass, fmax_pass = 0.5*fmin,1.1*fmax \n",
    "    \n",
    "    ## get time domain data\n",
    "    data = time_domain(tsig=tsig, fs=fs, dur=dur, doplot=0)\n",
    "    \n",
    "    ## Band pass\n",
    "    if dobandpass:\n",
    "        sos = butter(32, [2*fmin_pass/fs, 2*fmax_pass/fs], btype='bandpass', output='sos')\n",
    "        data = sosfiltfilt(sos, data)\n",
    "        psd_theor = np.std(data)**2/(fmax_pass - fmin_pass)\n",
    "    else:\n",
    "        psd_theor = 2*tsig**2/fs\n",
    "    \n",
    "    ## FFT\n",
    "    hwin = np.hanning(data.size)\n",
    "    win_fact = np.mean(hwin**2)\n",
    "    rtilda = np.sqrt(2/(dur*win_fact*fs**2)) * np.fft.rfft(data*hwin, n=nperseg)\n",
    "    freqs = np.fft.rfftfreq(nperseg, d=1.0/fs)\n",
    "    fidx = np.logical_and(freqs >= fmin, freqs <= fmax)\n",
    "    freqs, rtilda = freqs[fidx], rtilda[fidx]\n",
    "\n",
    "\n",
    "    if diagplot:\n",
    "        fi, si = welch(data, fs=fs, nperseg=int(1*fs))\n",
    "        plt.semilogy(fi, si)\n",
    "        plt.semilogy(freqs, np.abs(rtilda)**2)\n",
    "        plt.axhline(psd_theor, color='r')\n",
    "        plt.ylim(3e-1, 2)\n",
    "        \n",
    "    return freqs, rtilda, psd_theor\n",
    "#################################################################################\n",
    "\n",
    "#freqs, rtilda, psd_theor = freq_domain(tsig=13.56, fmin=5, fmax=200, fs=512, diagplot=0)"
   ]
  },
  {
   "cell_type": "code",
   "execution_count": 4,
   "metadata": {},
   "outputs": [],
   "source": [
    "def fd_likelihood(dur=10):\n",
    "    \n",
    "    freqs, rtilda, psd_theor = freq_domain(tsig=4, fmin=2, fmax=230, fs=512, dur=dur)\n",
    "    \n",
    "\n",
    "    Sh = np.linspace(0.1*psd_theor,10*psd_theor, 5000)\n",
    "    floglike = np.zeros(Sh.shape)\n",
    "\n",
    "    for ii in range(Sh.size):    \n",
    "        floglike[ii] = -np.sum(np.abs(rtilda)**2/(Sh[ii]) + np.log(2*np.pi*Sh[ii]))\n",
    " \n",
    "    #import pdb; pdb.set_trace()\n",
    "    flog = np.exp(floglike - floglike.max())\n",
    "    plt.plot(Sh, flog, label='likelihood of PSD')\n",
    "    plt.axvline(psd_theor, color='r', label='true')\n",
    "    plt.xlim(0.95*psd_theor, 1.05*psd_theor)\n",
    "    plt.xlabel('PSD of the band limited white noise')\n",
    "    plt.ylabel('p')\n",
    "    plt.legend()\n",
    "    \n",
    "##################################################"
   ]
  },
  {
   "cell_type": "code",
   "execution_count": null,
   "metadata": {},
   "outputs": [],
   "source": [
    "fd_likelihood(dur=1e5)"
   ]
  },
  {
   "cell_type": "code",
   "execution_count": null,
   "metadata": {},
   "outputs": [],
   "source": [
    "fd_likelihood(dur=1e6)"
   ]
  },
  {
   "cell_type": "code",
   "execution_count": null,
   "metadata": {
    "collapsed": true
   },
   "outputs": [],
   "source": []
  },
  {
   "cell_type": "code",
   "execution_count": null,
   "metadata": {
    "collapsed": true
   },
   "outputs": [],
   "source": []
  }
 ],
 "metadata": {
  "kernelspec": {
   "display_name": "LISAkern",
   "language": "python",
   "name": "lisakern"
  },
  "language_info": {
   "codemirror_mode": {
    "name": "ipython",
    "version": 2
   },
   "file_extension": ".py",
   "mimetype": "text/x-python",
   "name": "python",
   "nbconvert_exporter": "python",
   "pygments_lexer": "ipython2",
   "version": "2.7.10"
  }
 },
 "nbformat": 4,
 "nbformat_minor": 2
}
