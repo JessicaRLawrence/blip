{
 "cells": [
  {
   "cell_type": "code",
   "execution_count": 80,
   "metadata": {
    "collapsed": true
   },
   "outputs": [],
   "source": [
    "from __future__ import division\n",
    "import numpy as np\n",
    "import matplotlib\n",
    "from scipy.signal import welch, periodogram, butter, sosfiltfilt\n",
    "from dynesty import NestedSampler\n",
    "from dynesty.utils import resample_equal\n",
    "import corner\n",
    "\n",
    "font = {'weight' : 'bold', 'size'   : 12}\n",
    "\n",
    "import matplotlib\n",
    "matplotlib.rc('font', **font)\n",
    "matplotlib.rcParams['figure.figsize'] = (8, 6)\n",
    "import matplotlib.pyplot as plt\n",
    "\n",
    "import sys\n",
    "sys.path.append('../')\n",
    "from src.makeLISAdata import LISAdata"
   ]
  },
  {
   "cell_type": "markdown",
   "metadata": {},
   "source": [
    "### Recover sigma in time domain"
   ]
  },
  {
   "cell_type": "code",
   "execution_count": 81,
   "metadata": {},
   "outputs": [],
   "source": [
    "def time_domain(tsig=2.5, fs=256, dur=10, doplot=0):\n",
    "\n",
    "    nperseg = int(fs*dur)\n",
    "\n",
    "    data = np.random.normal(scale=tsig, size=nperseg)\n",
    "\n",
    "    if doplot:\n",
    "        sig_vals = np.linspace(0.1*tsig, 10*tsig, 10000)\n",
    "\n",
    "        loglike = np.zeros(sig_vals.shape)\n",
    "\n",
    "        for ii in range(sig_vals.size):\n",
    "            loglike[ii] = -0.5*np.sum(data**2/(sig_vals[ii]**2) + np.log(2*np.pi*(sig_vals[ii])**2))\n",
    "    \n",
    "\n",
    "        like = np.exp(loglike - loglike.max())\n",
    "        plt.plot(sig_vals, like, color='b')\n",
    "        plt.axvline(tsig, color='r', label='true std')\n",
    "        plt.xlim(0.98*tsig, 1.02*tsig)\n",
    "        plt.xlabel('std of data')\n",
    "        plt.ylabel('likelihood')\n",
    "        plt.legend()\n",
    "    return data    \n",
    "################################################################\n",
    "data = time_domain(tsig=2.5, fs=1024, dur=100, doplot=0)"
   ]
  },
  {
   "cell_type": "markdown",
   "metadata": {},
   "source": [
    "### Now recover sigma in freq domain"
   ]
  },
  {
   "cell_type": "code",
   "execution_count": 82,
   "metadata": {
    "collapsed": true
   },
   "outputs": [],
   "source": [
    "##First bandpass\n",
    "def freq_domain(tsig=3, fmin=10, fmax=100, fs=256, diagplot=0, dur=10):\n",
    "    \n",
    "    nperseg = int(fs*dur)\n",
    "\n",
    "    \n",
    "    ## determine pass band frequencies which are to be slightly higher\n",
    "    fmin_pass, fmax_pass = int(0.5*fmin), int(1.1*fmax) \n",
    "    \n",
    "    ## get time domain data\n",
    "    data = time_domain(tsig=tsig, fs=fs, dur=dur, doplot=0)\n",
    "    \n",
    "\n",
    "\n",
    "    ## FFT\n",
    "    hwin = np.hanning(data.size)\n",
    "    win_fact = np.mean(hwin**2)\n",
    "    rtilda = np.sqrt(2/(dur*win_fact*fs**2)) * np.fft.rfft(data*hwin, n=nperseg)\n",
    "    freqs = np.fft.rfftfreq(nperseg, d=1.0/fs)\n",
    "    fidx = np.logical_and(freqs >= fmin, freqs <= fmax)\n",
    "    freqs, rtilda = freqs[fidx], rtilda[fidx]\n",
    "\n",
    "    psd_theor = 2*tsig**2/fs\n",
    "    if diagplot:\n",
    "        fi, si = welch(data, fs=fs, nperseg=int(1*fs))\n",
    "        plt.semilogy(fi, si)\n",
    "        plt.semilogy(freqs, np.abs(rtilda)**2)\n",
    "        plt.axhline(psd_theor, color='r')\n",
    "        plt.ylim(3e-1, 2)\n",
    "        \n",
    "    return freqs, rtilda, psd_theor\n",
    "#################################################################################\n",
    "\n",
    "freqs, rtilda, psd_theor = freq_domain(tsig=13.56, fmin=5, fmax=200, fs=512, diagplot=0)"
   ]
  },
  {
   "cell_type": "code",
   "execution_count": 89,
   "metadata": {},
   "outputs": [],
   "source": [
    "class Bayes():\n",
    "    \n",
    "    def __init__(self, tsig, fmin, fmax, fs, dur):\n",
    "    \n",
    "        self.dur, self.fs = dur, fs\n",
    "        self.fmin, self.fmax = fmin, fmax\n",
    "        self.tsig = tsig\n",
    "    \n",
    "        self.freqs,self.rtilda,self.psd_theor = freq_domain(tsig=self.tsig, fmin=self.fmin, \\\n",
    "                                                            fmax=self.fmax, fs=self.fs, diagplot=0, dur=self.dur)\n",
    "    \n",
    "    ## prior function\n",
    "    def prior(self, theta):\n",
    "    \n",
    "        alpha, Sh = theta\n",
    "    \n",
    "        return (-5*alpha +10, 2*Sh) \n",
    "    \n",
    "    ## likelihood\n",
    "    def loglike(self, theta):\n",
    "    \n",
    "        alpha, Sh = theta\n",
    "    \n",
    "        Sh = Sh*(self.freqs)**alpha\n",
    "        #import pdb; pdb.ste_trace()\n",
    "        loglike = -np.sum(np.abs(self.rtilda)**2/(Sh) + np.log(2*np.pi*Sh))\n",
    "    \n",
    "        return loglike"
   ]
  },
  {
   "cell_type": "code",
   "execution_count": 105,
   "metadata": {
    "collapsed": true
   },
   "outputs": [],
   "source": [
    "def analysis(dur=10):\n",
    "    \n",
    "    spectra = Bayes(tsig=4, fmin=2, fmax=250, fs=512, dur=dur)\n",
    "    \n",
    "    parameters = [r'$S_h$', r'$\\\\alpha$']\n",
    "    npar = len(parameters)\n",
    "    \n",
    "    ## Run sampler\n",
    "    engine = NestedSampler(spectra.loglike, spectra.prior, npar, bound='multi', sample='rwalk', nlive=50)\n",
    "    engine.run_nested(dlogz=0.5,print_progress=True )\n",
    "\n",
    "    # re-scale weights to have a maximum of one\n",
    "    res = engine.results\n",
    "    weights = np.exp(res['logwt'] - res['logz'][-1])\n",
    "    weights[-1] = 1 - np.sum(weights[0:-1])\n",
    "\n",
    "    post = resample_equal(res.samples, weights)\n",
    "    truevals = [0, spectra.psd_theor]\n",
    "    if 0:\n",
    "        \n",
    "        fig = corner.corner(post, range=[0.999]*npar, labels=parameters, quantiles=(0.16, 0.84),\n",
    "                            smooth=None, smooth1d=0.8, show_titles=True,\n",
    "                            title_kwargs={\"fontsize\": 12},label_kwargs={\"fontsize\": 14},\n",
    "                            fill_contours=True, use_math_text=True, )\n",
    "        fig.set_size_inches(10, 8)\n",
    "        '''\n",
    "        axes = np.array(fig.axes).reshape((npar, npar))\n",
    "        \n",
    "        for ii in range(npar):     \n",
    "            ax = axes[ii, ii]\n",
    "            ax.axvline(truevals[ii], color=\"g\", label='true value')\n",
    "        '''\n",
    "        \n",
    "    else:   \n",
    "        plt.hist(post[:, 0], bins=25, histtype='step')\n",
    "        plt.axvline(truevals[0], color=\"g\", label='true value')\n",
    "        \n",
    "        import pdb; pdb.set_trace()\n",
    "        #for ii in range(npar):\n",
    "        #    plt.subplots(npar, 1, ii + 1)\n",
    "        #    plt.hist(post[:, ii], bins=25, histtype='step')\n",
    "        #    plt.axvline(truevals[ii], color=\"g\", label='true value')\n",
    "\n",
    "##################################################"
   ]
  },
  {
   "cell_type": "code",
   "execution_count": 106,
   "metadata": {},
   "outputs": [
    {
     "name": "stderr",
     "output_type": "stream",
     "text": [
      "iter: 1147+50 | bound: 502 | nc: 1 | ncall: 28519 | eff(%):  4.197 | loglstar:   -inf < -3454.020 <    inf | logz: -3475.930 +/-  0.645 | dlogz:  0.009 >  0.500            "
     ]
    },
    {
     "data": {
      "image/png": "[encoded data removed]",
      "text/plain": [
       "<matplotlib.figure.Figure at 0x1102e9e50>"
      ]
     },
     "metadata": {},
     "output_type": "display_data"
    }
   ],
   "source": [
    "analysis(dur=1)"
   ]
  },
  {
   "cell_type": "code",
   "execution_count": null,
   "metadata": {
    "collapsed": true
   },
   "outputs": [],
   "source": []
  },
  {
   "cell_type": "code",
   "execution_count": null,
   "metadata": {
    "collapsed": true
   },
   "outputs": [],
   "source": []
  }
 ],
 "metadata": {
  "kernelspec": {
   "display_name": "LISAkern",
   "language": "python",
   "name": "lisakern"
  },
  "language_info": {
   "codemirror_mode": {
    "name": "ipython",
    "version": 2
   },
   "file_extension": ".py",
   "mimetype": "text/x-python",
   "name": "python",
   "nbconvert_exporter": "python",
   "pygments_lexer": "ipython2",
   "version": "2.7.10"
  }
 },
 "nbformat": 4,
 "nbformat_minor": 2
}
